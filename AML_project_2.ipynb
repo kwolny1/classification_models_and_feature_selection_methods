{
  "cells": [
    {
      "cell_type": "markdown",
      "id": "2868ef7d",
      "metadata": {
        "id": "2868ef7d"
      },
      "source": [
        "# Projekt 2 AML"
      ]
    },
    {
      "cell_type": "code",
      "execution_count": 2,
      "id": "c2eff961",
      "metadata": {
        "colab": {
          "base_uri": "https://localhost:8080/"
        },
        "id": "c2eff961",
        "outputId": "eaa6c3b1-3781-4eb4-a6cb-e93c2a4b7eef"
      },
      "outputs": [
        {
          "output_type": "stream",
          "name": "stdout",
          "text": [
            "Requirement already satisfied: py-earth2 in /usr/local/lib/python3.11/dist-packages (0.2.0)\n",
            "Requirement already satisfied: numpy>=1 in /usr/local/lib/python3.11/dist-packages (from py-earth2) (2.0.2)\n",
            "Requirement already satisfied: scikit-learn>=0.16 in /usr/local/lib/python3.11/dist-packages (from py-earth2) (1.6.1)\n",
            "Requirement already satisfied: scipy>=1 in /usr/local/lib/python3.11/dist-packages (from py-earth2) (1.15.3)\n",
            "Requirement already satisfied: joblib>=1.2.0 in /usr/local/lib/python3.11/dist-packages (from scikit-learn>=0.16->py-earth2) (1.5.0)\n",
            "Requirement already satisfied: threadpoolctl>=3.1.0 in /usr/local/lib/python3.11/dist-packages (from scikit-learn>=0.16->py-earth2) (3.6.0)\n"
          ]
        }
      ],
      "source": [
        "import pandas as pd\n",
        "from sklearn.linear_model import LogisticRegression\n",
        "from sklearn.model_selection import train_test_split, RandomizedSearchCV\n",
        "from sklearn.ensemble import RandomForestClassifier\n",
        "from xgboost import XGBClassifier\n",
        "import numpy as np\n",
        "from sklearn.feature_selection import RFE\n",
        "from sklearn.feature_selection import SelectKBest, f_classif\n",
        "from sklearn.ensemble import RandomForestClassifier\n",
        "from sklearn.ensemble import GradientBoostingClassifier\n",
        "from sklearn.linear_model import LogisticRegression\n",
        "from sklearn.svm import SVC\n",
        "from xgboost import XGBClassifier\n",
        "from sklearn.metrics import accuracy_score\n",
        "from sklearn.metrics import recall_score\n",
        "from sklearn.metrics import precision_score\n",
        "!pip install py-earth2\n",
        "from pyearth import Earth\n",
        "import shap\n",
        "import os\n",
        "import warnings\n",
        "\n",
        "\n",
        "warnings.filterwarnings(\"ignore\")\n",
        "os.makedirs(\"results\", exist_ok=True)"
      ]
    },
    {
      "cell_type": "code",
      "execution_count": 4,
      "id": "bcf9f389",
      "metadata": {
        "id": "bcf9f389"
      },
      "outputs": [],
      "source": [
        "def cost_evalueation(y_true, y_proba, X):\n",
        "    idx = np.argsort(y_proba)[-1000:]\n",
        "    reward  = y_true[idx].sum() * 10\n",
        "    variable_cost = X.shape[1] * 200\n",
        "    return reward, variable_cost, reward - variable_cost\n"
      ]
    },
    {
      "cell_type": "code",
      "execution_count": 5,
      "id": "e678c319",
      "metadata": {
        "id": "e678c319"
      },
      "outputs": [],
      "source": [
        "def expected_cost(y_true, y_pred, X):\n",
        "    n_predicted = int(0.2 * len(y_pred)) # on test set, we will be predicting 1000 of 5000 as 1s. therefore if len(y_pred) is less, we should simulate\n",
        "    idx = np.argsort(y_pred)[-n_predicted:]\n",
        "    expected_reward  = y_true[idx].sum() * 10 * (5000/len(y_pred))\n",
        "    variable_cost = X.shape[1] * 200\n",
        "    return expected_reward, variable_cost, expected_reward - variable_cost"
      ]
    },
    {
      "cell_type": "code",
      "execution_count": 6,
      "id": "2aa1835d",
      "metadata": {
        "colab": {
          "base_uri": "https://localhost:8080/",
          "height": 273
        },
        "id": "2aa1835d",
        "outputId": "3555385c-5073-4fdb-c82b-467d359923ba"
      },
      "outputs": [
        {
          "output_type": "stream",
          "name": "stdout",
          "text": [
            "Drive already mounted at /content/drive; to attempt to forcibly remount, call drive.mount(\"/content/drive\", force_remount=True).\n"
          ]
        },
        {
          "output_type": "execute_result",
          "data": {
            "text/plain": [
              "         0          1          2          3          4          5    \\\n",
              "0  20.454647  16.739345  39.811892  24.955468  27.088535  17.116793   \n",
              "1  16.175225  10.483281  27.471017  18.509824  19.045353  15.039082   \n",
              "2  10.577212  10.795115  24.621388  17.264747  14.221610   8.754692   \n",
              "3  26.299206  13.471215  51.725934  40.786947  26.052414  33.200702   \n",
              "4  23.193955  20.037969  37.780290  28.983748  25.510508  15.970348   \n",
              "\n",
              "         6          7          8          9    ...        490        491  \\\n",
              "0  25.166957  23.364508  17.223886  18.339175  ...  13.235314   5.160379   \n",
              "1  21.354915  15.790575  13.912508  13.772518  ...  13.355832   2.609716   \n",
              "2  18.399259  11.358798  15.432650  14.842153  ...  15.179359  10.200144   \n",
              "3  51.014330  27.685009  33.107991  25.359457  ...   7.693654   6.359187   \n",
              "4  27.930757  20.707354  25.341768  27.118987  ...   7.068407   7.180632   \n",
              "\n",
              "         492        493        494        495        496        497  \\\n",
              "0  29.194846  17.298314   6.414267   7.780568   6.840910  18.295197   \n",
              "1   8.624576   9.371632  11.789219   9.205471  15.204468   8.358906   \n",
              "2  12.645303  12.147416   8.899863  13.954543  12.356942  16.364696   \n",
              "3   5.760296   5.699580   9.895795  17.011648  12.031000  14.637973   \n",
              "4  12.517752   9.026493   7.748172  10.363749   7.099588  12.467672   \n",
              "\n",
              "         498        499  \n",
              "0  10.014028   6.938318  \n",
              "1   8.529152   8.021473  \n",
              "2   3.817956   4.094035  \n",
              "3  10.172737  10.525373  \n",
              "4  11.545619   9.098600  \n",
              "\n",
              "[5 rows x 500 columns]"
            ],
            "text/html": [
              "\n",
              "  <div id=\"df-046ccabc-4941-40e3-94b5-214fb3fc9689\" class=\"colab-df-container\">\n",
              "    <div>\n",
              "<style scoped>\n",
              "    .dataframe tbody tr th:only-of-type {\n",
              "        vertical-align: middle;\n",
              "    }\n",
              "\n",
              "    .dataframe tbody tr th {\n",
              "        vertical-align: top;\n",
              "    }\n",
              "\n",
              "    .dataframe thead th {\n",
              "        text-align: right;\n",
              "    }\n",
              "</style>\n",
              "<table border=\"1\" class=\"dataframe\">\n",
              "  <thead>\n",
              "    <tr style=\"text-align: right;\">\n",
              "      <th></th>\n",
              "      <th>0</th>\n",
              "      <th>1</th>\n",
              "      <th>2</th>\n",
              "      <th>3</th>\n",
              "      <th>4</th>\n",
              "      <th>5</th>\n",
              "      <th>6</th>\n",
              "      <th>7</th>\n",
              "      <th>8</th>\n",
              "      <th>9</th>\n",
              "      <th>...</th>\n",
              "      <th>490</th>\n",
              "      <th>491</th>\n",
              "      <th>492</th>\n",
              "      <th>493</th>\n",
              "      <th>494</th>\n",
              "      <th>495</th>\n",
              "      <th>496</th>\n",
              "      <th>497</th>\n",
              "      <th>498</th>\n",
              "      <th>499</th>\n",
              "    </tr>\n",
              "  </thead>\n",
              "  <tbody>\n",
              "    <tr>\n",
              "      <th>0</th>\n",
              "      <td>20.454647</td>\n",
              "      <td>16.739345</td>\n",
              "      <td>39.811892</td>\n",
              "      <td>24.955468</td>\n",
              "      <td>27.088535</td>\n",
              "      <td>17.116793</td>\n",
              "      <td>25.166957</td>\n",
              "      <td>23.364508</td>\n",
              "      <td>17.223886</td>\n",
              "      <td>18.339175</td>\n",
              "      <td>...</td>\n",
              "      <td>13.235314</td>\n",
              "      <td>5.160379</td>\n",
              "      <td>29.194846</td>\n",
              "      <td>17.298314</td>\n",
              "      <td>6.414267</td>\n",
              "      <td>7.780568</td>\n",
              "      <td>6.840910</td>\n",
              "      <td>18.295197</td>\n",
              "      <td>10.014028</td>\n",
              "      <td>6.938318</td>\n",
              "    </tr>\n",
              "    <tr>\n",
              "      <th>1</th>\n",
              "      <td>16.175225</td>\n",
              "      <td>10.483281</td>\n",
              "      <td>27.471017</td>\n",
              "      <td>18.509824</td>\n",
              "      <td>19.045353</td>\n",
              "      <td>15.039082</td>\n",
              "      <td>21.354915</td>\n",
              "      <td>15.790575</td>\n",
              "      <td>13.912508</td>\n",
              "      <td>13.772518</td>\n",
              "      <td>...</td>\n",
              "      <td>13.355832</td>\n",
              "      <td>2.609716</td>\n",
              "      <td>8.624576</td>\n",
              "      <td>9.371632</td>\n",
              "      <td>11.789219</td>\n",
              "      <td>9.205471</td>\n",
              "      <td>15.204468</td>\n",
              "      <td>8.358906</td>\n",
              "      <td>8.529152</td>\n",
              "      <td>8.021473</td>\n",
              "    </tr>\n",
              "    <tr>\n",
              "      <th>2</th>\n",
              "      <td>10.577212</td>\n",
              "      <td>10.795115</td>\n",
              "      <td>24.621388</td>\n",
              "      <td>17.264747</td>\n",
              "      <td>14.221610</td>\n",
              "      <td>8.754692</td>\n",
              "      <td>18.399259</td>\n",
              "      <td>11.358798</td>\n",
              "      <td>15.432650</td>\n",
              "      <td>14.842153</td>\n",
              "      <td>...</td>\n",
              "      <td>15.179359</td>\n",
              "      <td>10.200144</td>\n",
              "      <td>12.645303</td>\n",
              "      <td>12.147416</td>\n",
              "      <td>8.899863</td>\n",
              "      <td>13.954543</td>\n",
              "      <td>12.356942</td>\n",
              "      <td>16.364696</td>\n",
              "      <td>3.817956</td>\n",
              "      <td>4.094035</td>\n",
              "    </tr>\n",
              "    <tr>\n",
              "      <th>3</th>\n",
              "      <td>26.299206</td>\n",
              "      <td>13.471215</td>\n",
              "      <td>51.725934</td>\n",
              "      <td>40.786947</td>\n",
              "      <td>26.052414</td>\n",
              "      <td>33.200702</td>\n",
              "      <td>51.014330</td>\n",
              "      <td>27.685009</td>\n",
              "      <td>33.107991</td>\n",
              "      <td>25.359457</td>\n",
              "      <td>...</td>\n",
              "      <td>7.693654</td>\n",
              "      <td>6.359187</td>\n",
              "      <td>5.760296</td>\n",
              "      <td>5.699580</td>\n",
              "      <td>9.895795</td>\n",
              "      <td>17.011648</td>\n",
              "      <td>12.031000</td>\n",
              "      <td>14.637973</td>\n",
              "      <td>10.172737</td>\n",
              "      <td>10.525373</td>\n",
              "    </tr>\n",
              "    <tr>\n",
              "      <th>4</th>\n",
              "      <td>23.193955</td>\n",
              "      <td>20.037969</td>\n",
              "      <td>37.780290</td>\n",
              "      <td>28.983748</td>\n",
              "      <td>25.510508</td>\n",
              "      <td>15.970348</td>\n",
              "      <td>27.930757</td>\n",
              "      <td>20.707354</td>\n",
              "      <td>25.341768</td>\n",
              "      <td>27.118987</td>\n",
              "      <td>...</td>\n",
              "      <td>7.068407</td>\n",
              "      <td>7.180632</td>\n",
              "      <td>12.517752</td>\n",
              "      <td>9.026493</td>\n",
              "      <td>7.748172</td>\n",
              "      <td>10.363749</td>\n",
              "      <td>7.099588</td>\n",
              "      <td>12.467672</td>\n",
              "      <td>11.545619</td>\n",
              "      <td>9.098600</td>\n",
              "    </tr>\n",
              "  </tbody>\n",
              "</table>\n",
              "<p>5 rows × 500 columns</p>\n",
              "</div>\n",
              "    <div class=\"colab-df-buttons\">\n",
              "\n",
              "  <div class=\"colab-df-container\">\n",
              "    <button class=\"colab-df-convert\" onclick=\"convertToInteractive('df-046ccabc-4941-40e3-94b5-214fb3fc9689')\"\n",
              "            title=\"Convert this dataframe to an interactive table.\"\n",
              "            style=\"display:none;\">\n",
              "\n",
              "  <svg xmlns=\"http://www.w3.org/2000/svg\" height=\"24px\" viewBox=\"0 -960 960 960\">\n",
              "    <path d=\"M120-120v-720h720v720H120Zm60-500h600v-160H180v160Zm220 220h160v-160H400v160Zm0 220h160v-160H400v160ZM180-400h160v-160H180v160Zm440 0h160v-160H620v160ZM180-180h160v-160H180v160Zm440 0h160v-160H620v160Z\"/>\n",
              "  </svg>\n",
              "    </button>\n",
              "\n",
              "  <style>\n",
              "    .colab-df-container {\n",
              "      display:flex;\n",
              "      gap: 12px;\n",
              "    }\n",
              "\n",
              "    .colab-df-convert {\n",
              "      background-color: #E8F0FE;\n",
              "      border: none;\n",
              "      border-radius: 50%;\n",
              "      cursor: pointer;\n",
              "      display: none;\n",
              "      fill: #1967D2;\n",
              "      height: 32px;\n",
              "      padding: 0 0 0 0;\n",
              "      width: 32px;\n",
              "    }\n",
              "\n",
              "    .colab-df-convert:hover {\n",
              "      background-color: #E2EBFA;\n",
              "      box-shadow: 0px 1px 2px rgba(60, 64, 67, 0.3), 0px 1px 3px 1px rgba(60, 64, 67, 0.15);\n",
              "      fill: #174EA6;\n",
              "    }\n",
              "\n",
              "    .colab-df-buttons div {\n",
              "      margin-bottom: 4px;\n",
              "    }\n",
              "\n",
              "    [theme=dark] .colab-df-convert {\n",
              "      background-color: #3B4455;\n",
              "      fill: #D2E3FC;\n",
              "    }\n",
              "\n",
              "    [theme=dark] .colab-df-convert:hover {\n",
              "      background-color: #434B5C;\n",
              "      box-shadow: 0px 1px 3px 1px rgba(0, 0, 0, 0.15);\n",
              "      filter: drop-shadow(0px 1px 2px rgba(0, 0, 0, 0.3));\n",
              "      fill: #FFFFFF;\n",
              "    }\n",
              "  </style>\n",
              "\n",
              "    <script>\n",
              "      const buttonEl =\n",
              "        document.querySelector('#df-046ccabc-4941-40e3-94b5-214fb3fc9689 button.colab-df-convert');\n",
              "      buttonEl.style.display =\n",
              "        google.colab.kernel.accessAllowed ? 'block' : 'none';\n",
              "\n",
              "      async function convertToInteractive(key) {\n",
              "        const element = document.querySelector('#df-046ccabc-4941-40e3-94b5-214fb3fc9689');\n",
              "        const dataTable =\n",
              "          await google.colab.kernel.invokeFunction('convertToInteractive',\n",
              "                                                    [key], {});\n",
              "        if (!dataTable) return;\n",
              "\n",
              "        const docLinkHtml = 'Like what you see? Visit the ' +\n",
              "          '<a target=\"_blank\" href=https://colab.research.google.com/notebooks/data_table.ipynb>data table notebook</a>'\n",
              "          + ' to learn more about interactive tables.';\n",
              "        element.innerHTML = '';\n",
              "        dataTable['output_type'] = 'display_data';\n",
              "        await google.colab.output.renderOutput(dataTable, element);\n",
              "        const docLink = document.createElement('div');\n",
              "        docLink.innerHTML = docLinkHtml;\n",
              "        element.appendChild(docLink);\n",
              "      }\n",
              "    </script>\n",
              "  </div>\n",
              "\n",
              "\n",
              "    <div id=\"df-324ae3de-bc0e-4a46-8e72-046616d92fb3\">\n",
              "      <button class=\"colab-df-quickchart\" onclick=\"quickchart('df-324ae3de-bc0e-4a46-8e72-046616d92fb3')\"\n",
              "                title=\"Suggest charts\"\n",
              "                style=\"display:none;\">\n",
              "\n",
              "<svg xmlns=\"http://www.w3.org/2000/svg\" height=\"24px\"viewBox=\"0 0 24 24\"\n",
              "     width=\"24px\">\n",
              "    <g>\n",
              "        <path d=\"M19 3H5c-1.1 0-2 .9-2 2v14c0 1.1.9 2 2 2h14c1.1 0 2-.9 2-2V5c0-1.1-.9-2-2-2zM9 17H7v-7h2v7zm4 0h-2V7h2v10zm4 0h-2v-4h2v4z\"/>\n",
              "    </g>\n",
              "</svg>\n",
              "      </button>\n",
              "\n",
              "<style>\n",
              "  .colab-df-quickchart {\n",
              "      --bg-color: #E8F0FE;\n",
              "      --fill-color: #1967D2;\n",
              "      --hover-bg-color: #E2EBFA;\n",
              "      --hover-fill-color: #174EA6;\n",
              "      --disabled-fill-color: #AAA;\n",
              "      --disabled-bg-color: #DDD;\n",
              "  }\n",
              "\n",
              "  [theme=dark] .colab-df-quickchart {\n",
              "      --bg-color: #3B4455;\n",
              "      --fill-color: #D2E3FC;\n",
              "      --hover-bg-color: #434B5C;\n",
              "      --hover-fill-color: #FFFFFF;\n",
              "      --disabled-bg-color: #3B4455;\n",
              "      --disabled-fill-color: #666;\n",
              "  }\n",
              "\n",
              "  .colab-df-quickchart {\n",
              "    background-color: var(--bg-color);\n",
              "    border: none;\n",
              "    border-radius: 50%;\n",
              "    cursor: pointer;\n",
              "    display: none;\n",
              "    fill: var(--fill-color);\n",
              "    height: 32px;\n",
              "    padding: 0;\n",
              "    width: 32px;\n",
              "  }\n",
              "\n",
              "  .colab-df-quickchart:hover {\n",
              "    background-color: var(--hover-bg-color);\n",
              "    box-shadow: 0 1px 2px rgba(60, 64, 67, 0.3), 0 1px 3px 1px rgba(60, 64, 67, 0.15);\n",
              "    fill: var(--button-hover-fill-color);\n",
              "  }\n",
              "\n",
              "  .colab-df-quickchart-complete:disabled,\n",
              "  .colab-df-quickchart-complete:disabled:hover {\n",
              "    background-color: var(--disabled-bg-color);\n",
              "    fill: var(--disabled-fill-color);\n",
              "    box-shadow: none;\n",
              "  }\n",
              "\n",
              "  .colab-df-spinner {\n",
              "    border: 2px solid var(--fill-color);\n",
              "    border-color: transparent;\n",
              "    border-bottom-color: var(--fill-color);\n",
              "    animation:\n",
              "      spin 1s steps(1) infinite;\n",
              "  }\n",
              "\n",
              "  @keyframes spin {\n",
              "    0% {\n",
              "      border-color: transparent;\n",
              "      border-bottom-color: var(--fill-color);\n",
              "      border-left-color: var(--fill-color);\n",
              "    }\n",
              "    20% {\n",
              "      border-color: transparent;\n",
              "      border-left-color: var(--fill-color);\n",
              "      border-top-color: var(--fill-color);\n",
              "    }\n",
              "    30% {\n",
              "      border-color: transparent;\n",
              "      border-left-color: var(--fill-color);\n",
              "      border-top-color: var(--fill-color);\n",
              "      border-right-color: var(--fill-color);\n",
              "    }\n",
              "    40% {\n",
              "      border-color: transparent;\n",
              "      border-right-color: var(--fill-color);\n",
              "      border-top-color: var(--fill-color);\n",
              "    }\n",
              "    60% {\n",
              "      border-color: transparent;\n",
              "      border-right-color: var(--fill-color);\n",
              "    }\n",
              "    80% {\n",
              "      border-color: transparent;\n",
              "      border-right-color: var(--fill-color);\n",
              "      border-bottom-color: var(--fill-color);\n",
              "    }\n",
              "    90% {\n",
              "      border-color: transparent;\n",
              "      border-bottom-color: var(--fill-color);\n",
              "    }\n",
              "  }\n",
              "</style>\n",
              "\n",
              "      <script>\n",
              "        async function quickchart(key) {\n",
              "          const quickchartButtonEl =\n",
              "            document.querySelector('#' + key + ' button');\n",
              "          quickchartButtonEl.disabled = true;  // To prevent multiple clicks.\n",
              "          quickchartButtonEl.classList.add('colab-df-spinner');\n",
              "          try {\n",
              "            const charts = await google.colab.kernel.invokeFunction(\n",
              "                'suggestCharts', [key], {});\n",
              "          } catch (error) {\n",
              "            console.error('Error during call to suggestCharts:', error);\n",
              "          }\n",
              "          quickchartButtonEl.classList.remove('colab-df-spinner');\n",
              "          quickchartButtonEl.classList.add('colab-df-quickchart-complete');\n",
              "        }\n",
              "        (() => {\n",
              "          let quickchartButtonEl =\n",
              "            document.querySelector('#df-324ae3de-bc0e-4a46-8e72-046616d92fb3 button');\n",
              "          quickchartButtonEl.style.display =\n",
              "            google.colab.kernel.accessAllowed ? 'block' : 'none';\n",
              "        })();\n",
              "      </script>\n",
              "    </div>\n",
              "\n",
              "    </div>\n",
              "  </div>\n"
            ],
            "application/vnd.google.colaboratory.intrinsic+json": {
              "type": "dataframe",
              "variable_name": "X"
            }
          },
          "metadata": {},
          "execution_count": 6
        }
      ],
      "source": [
        "\n",
        "# colab\n",
        "DATA_DIR = '/content/drive/MyDrive/dataAML'\n",
        "from google.colab import drive\n",
        "drive.mount('/content/drive')\n",
        "\n",
        "# local\n",
        "# X = pd.read_csv(\"./data/x_train.txt\", sep=\" \", header=None)\n",
        "# y = pd.read_csv(\"./data/y_train.txt\", header=None).iloc[:, 0].to_numpy()\n",
        "# X_test = pd.read_csv(\"./data/x_test.txt\", sep=\" \", header=None)\n",
        "\n",
        "X = pd.read_csv(f\"{DATA_DIR}/x_train.txt\", sep=\" \", header=None)\n",
        "y = pd.read_csv(f\"{DATA_DIR}/y_train.txt\", header=None).iloc[:, 0].to_numpy()\n",
        "X_test = pd.read_csv(f\"{DATA_DIR}/x_test.txt\", sep=\" \", header=None)\n",
        "X.head()\n",
        "\n"
      ]
    },
    {
      "cell_type": "code",
      "execution_count": 7,
      "id": "39d09cfd",
      "metadata": {
        "id": "39d09cfd"
      },
      "outputs": [],
      "source": [
        "X_train, X_valid, y_train, y_valid = train_test_split(X, y, train_size=0.8, random_state=0, stratify=y)"
      ]
    },
    {
      "cell_type": "markdown",
      "id": "e9ad960e",
      "metadata": {
        "id": "e9ad960e"
      },
      "source": [
        "## Fitting model and trying to get best accuracy"
      ]
    },
    {
      "cell_type": "code",
      "execution_count": 8,
      "id": "4ff67906",
      "metadata": {
        "colab": {
          "base_uri": "https://localhost:8080/"
        },
        "id": "4ff67906",
        "outputId": "58d4eb3e-d83f-4e23-9372-4b4e9d7a12df"
      },
      "outputs": [
        {
          "output_type": "stream",
          "name": "stdout",
          "text": [
            "-92900.0\n",
            "-95110\n",
            "0.632\n"
          ]
        }
      ],
      "source": [
        "clf = LogisticRegression(random_state=0, penalty=\"l2\").fit(X_train, y_train)\n",
        "clf_pred = clf.predict(X_valid)\n",
        "clf_proba = clf.predict_proba(X_valid)[:, 1]\n",
        "reward, variable_cost, final_score = cost_evalueation(y_valid, clf_proba, X_train)\n",
        "_,_,exp_cost = expected_cost(y_valid, clf_proba, X_train)\n",
        "print(exp_cost)\n",
        "print(final_score)\n",
        "print(accuracy_score(y_valid, clf_pred))"
      ]
    },
    {
      "cell_type": "code",
      "execution_count": 9,
      "id": "ebf7895e",
      "metadata": {
        "colab": {
          "base_uri": "https://localhost:8080/"
        },
        "id": "ebf7895e",
        "outputId": "bc8feec4-4a8d-41d0-c741-fcc7ffc03795"
      },
      "outputs": [
        {
          "output_type": "stream",
          "name": "stdout",
          "text": [
            "-92950.0\n",
            "-95110\n",
            "0.718\n"
          ]
        }
      ],
      "source": [
        "xgb = XGBClassifier(random_state=0).fit(X_train, y_train)\n",
        "xgb_pred = xgb.predict(X_valid)\n",
        "xgb_proba = xgb.predict_proba(X_valid)[:, 1]\n",
        "reward, variable_cost, final_score = cost_evalueation(y_valid, xgb_proba, X_train)\n",
        "_,_,exp_cost = expected_cost(y_valid, xgb_proba, X_train)\n",
        "print(exp_cost)\n",
        "print(final_score)\n",
        "print(accuracy_score(y_valid, xgb_pred))"
      ]
    },
    {
      "cell_type": "code",
      "source": [
        "gb = GradientBoostingClassifier(random_state=0).fit(X_train, y_train)\n",
        "gb_pred = gb.predict(X_valid)\n",
        "gb_proba = gb.predict_proba(X_valid)[:, 1]\n",
        "reward, variable_cost, final_score = cost_evalueation(y_valid, gb_proba, X_train)\n",
        "_,_,exp_cost = expected_cost(y_valid, gb_proba, X_train)\n",
        "print(exp_cost)\n",
        "print(final_score)\n",
        "print(accuracy_score(y_valid, gb_pred))"
      ],
      "metadata": {
        "colab": {
          "base_uri": "https://localhost:8080/"
        },
        "id": "OiLzVLEvr2VS",
        "outputId": "a46eaaaf-b1bd-43db-8e0e-059ec0cae990"
      },
      "id": "OiLzVLEvr2VS",
      "execution_count": 10,
      "outputs": [
        {
          "output_type": "stream",
          "name": "stdout",
          "text": [
            "200\n",
            "5.0\n",
            "-97900.0\n",
            "-95110\n",
            "0.711\n"
          ]
        }
      ]
    },
    {
      "cell_type": "code",
      "source": [
        "lr = LogisticRegression(solver='liblinear', random_state=0).fit(X_train, y_train)\n",
        "lr_pred = lr.predict(X_valid)\n",
        "lr_proba = lr.predict_proba(X_valid)[:, 1]\n",
        "reward, variable_cost, final_score = cost_evalueation(y_valid, lr_proba, X_train)\n",
        "_,_,exp_cost = expected_cost(y_valid, lr_proba, X_train)\n",
        "print(exp_cost)\n",
        "print(final_score)\n",
        "print(accuracy_score(y_valid, lr_pred))"
      ],
      "metadata": {
        "colab": {
          "base_uri": "https://localhost:8080/"
        },
        "id": "B0cRIRqfQYi2",
        "outputId": "5cee716e-c232-4801-cda6-6dd2058a14b6"
      },
      "id": "B0cRIRqfQYi2",
      "execution_count": 32,
      "outputs": [
        {
          "output_type": "stream",
          "name": "stdout",
          "text": [
            "-93000.0\n",
            "-95110\n",
            "0.631\n"
          ]
        }
      ]
    },
    {
      "cell_type": "code",
      "source": [
        "svm = SVC(kernel='rbf', probability=True, random_state=0).fit(X_train, y_train)\n",
        "svm_pred = svm.predict(X_valid)\n",
        "svm_proba = svm.predict_proba(X_valid)[:, 1]\n",
        "reward, variable_cost, final_score = cost_evalueation(y_valid, svm_proba, X_train)\n",
        "_,_,exp_cost = expected_cost(y_valid, svm_proba, X_train)\n",
        "print(exp_cost)\n",
        "print(final_score)\n",
        "print(accuracy_score(y_valid, svm_pred))"
      ],
      "metadata": {
        "colab": {
          "base_uri": "https://localhost:8080/"
        },
        "id": "oCcf7J-zQmtn",
        "outputId": "53a128c3-0efc-434d-f35a-d55fbaa8033c"
      },
      "id": "oCcf7J-zQmtn",
      "execution_count": 33,
      "outputs": [
        {
          "output_type": "stream",
          "name": "stdout",
          "text": [
            "-92500.0\n",
            "-95110\n",
            "0.707\n"
          ]
        }
      ]
    },
    {
      "cell_type": "code",
      "execution_count": null,
      "id": "530f9c48",
      "metadata": {
        "id": "530f9c48",
        "outputId": "fdcbcebf-187a-4912-cd01-cf23b742a06c"
      },
      "outputs": [
        {
          "name": "stdout",
          "output_type": "stream",
          "text": [
            "Best parameters: {'subsample': 1.0, 'n_estimators': 200, 'max_depth': 5, 'learning_rate': 0.01}\n",
            "Test Accuracy: 0.713\n"
          ]
        }
      ],
      "source": [
        "model = XGBClassifier(use_label_encoder=False, eval_metric='mlogloss')\n",
        "\n",
        "param_dist = {\n",
        "    'n_estimators': [100, 200],\n",
        "    'max_depth': [3, 5],\n",
        "    'learning_rate': [0.01, 0.1],\n",
        "    'subsample': [0.8, 1.0],\n",
        "}\n",
        "\n",
        "search = RandomizedSearchCV(\n",
        "    model,\n",
        "    param_distributions=param_dist,\n",
        "    n_iter=20,\n",
        "    scoring='accuracy',\n",
        "    cv=5,\n",
        "    random_state=42,\n",
        "    n_jobs=-1,\n",
        "    verbose=0\n",
        ")\n",
        "\n",
        "search.fit(X_train, y_train)\n",
        "print(\"Best parameters:\", search.best_params_)\n",
        "y_pred = search.predict(X_valid)\n",
        "print(\"Test Accuracy:\", accuracy_score(y_valid, y_pred))\n"
      ]
    },
    {
      "cell_type": "markdown",
      "id": "dbbfbc73",
      "metadata": {
        "id": "dbbfbc73"
      },
      "source": [
        "# Feature Selection\n",
        "\n",
        "* RFE\n",
        "* Shap\n",
        "* Model-Based Feature Importance (Tree-Based Models)\n",
        "* Univariate Feature Selection"
      ]
    },
    {
      "cell_type": "markdown",
      "id": "98e4d596",
      "metadata": {
        "id": "98e4d596"
      },
      "source": [
        "### RFE"
      ]
    },
    {
      "cell_type": "code",
      "execution_count": 10,
      "id": "a49456cb",
      "metadata": {
        "id": "a49456cb"
      },
      "outputs": [],
      "source": [
        "def rfe(k):\n",
        "    model = LogisticRegression(random_state=42)\n",
        "    rfe = RFE(model, n_features_to_select=k)\n",
        "    rfe.fit(X_train, y_train)\n",
        "\n",
        "    rfe_selected_features = X_train.columns[rfe.support_]\n",
        "    return rfe_selected_features\n",
        "#rfe_selected_features = rfe(10)\n",
        "#print(rfe_selected_features)"
      ]
    },
    {
      "cell_type": "markdown",
      "id": "53139bc3",
      "metadata": {
        "id": "53139bc3"
      },
      "source": [
        "### SHAP"
      ]
    },
    {
      "cell_type": "code",
      "execution_count": 11,
      "id": "bec70dcc",
      "metadata": {
        "id": "bec70dcc"
      },
      "outputs": [],
      "source": [
        "def shap_features(k):\n",
        "    model = XGBClassifier(random_state=0)\n",
        "    model.fit(X_train, y_train)\n",
        "\n",
        "    explainer = shap.TreeExplainer(model)\n",
        "    shap_values = explainer.shap_values(X_train)\n",
        "\n",
        "    # Compute mean absolute SHAP value per feature\n",
        "    shap_importance = np.abs(shap_values).mean(axis=0)\n",
        "    feature_importance = pd.Series(shap_importance, index=X_train.columns)\n",
        "\n",
        "    # Sort and display top features\n",
        "    shap_selected_features = feature_importance.sort_values(ascending=False)\n",
        "    return shap_selected_features.index[:k]\n",
        "#shap_selected_features = shap_features(10)\n",
        "#print(shap_selected_features)\n"
      ]
    },
    {
      "cell_type": "markdown",
      "id": "6062e9d5",
      "metadata": {
        "id": "6062e9d5"
      },
      "source": [
        "### Model-Based Feature Importance (Tree-Based Models)\n",
        "\n",
        "Works well if you're using Random Forest, XGBoost, or LightGBM."
      ]
    },
    {
      "cell_type": "code",
      "execution_count": 12,
      "id": "cb25189d",
      "metadata": {
        "colab": {
          "base_uri": "https://localhost:8080/"
        },
        "id": "cb25189d",
        "outputId": "109dc4f4-dba6-4a6b-ccb6-c4bcbf60d571"
      },
      "outputs": [
        {
          "output_type": "stream",
          "name": "stdout",
          "text": [
            "Index([2, 6, 3, 7, 4, 462, 1, 8, 0, 5], dtype='int64')\n"
          ]
        }
      ],
      "source": [
        "def rfc_features(k):\n",
        "    model = RandomForestClassifier(random_state=0)\n",
        "    model.fit(X_train, y_train)\n",
        "\n",
        "    # Get feature importances\n",
        "    importances = model.feature_importances_\n",
        "    features = pd.Series(importances, index=X_train.columns)\n",
        "    rfc_selected_features = features.sort_values(ascending=False)\n",
        "    return rfc_selected_features.index[:k]\n",
        "rfc_selected_features = rfc_features(10)\n",
        "print(rfc_selected_features)"
      ]
    },
    {
      "cell_type": "markdown",
      "id": "44a84a68",
      "metadata": {
        "id": "44a84a68"
      },
      "source": [
        "### Univariate Feature Selection"
      ]
    },
    {
      "cell_type": "code",
      "execution_count": 13,
      "id": "6116a910",
      "metadata": {
        "colab": {
          "base_uri": "https://localhost:8080/"
        },
        "id": "6116a910",
        "outputId": "d9a820fb-9955-4ea6-8ac3-30d7e584b693"
      },
      "outputs": [
        {
          "output_type": "stream",
          "name": "stdout",
          "text": [
            "Index([0, 1, 2, 3, 4, 5, 6, 7, 8, 9], dtype='int64')\n"
          ]
        }
      ],
      "source": [
        "def ufs(k):\n",
        "    selector = SelectKBest(score_func=f_classif, k=k)\n",
        "    selector.fit(X_train, y_train)\n",
        "\n",
        "    ufs_elected_features = X_train.columns[selector.get_support()]\n",
        "    return ufs_elected_features\n",
        "ufs_elected_features = ufs(10)\n",
        "print(ufs_elected_features)"
      ]
    },
    {
      "cell_type": "markdown",
      "id": "39aa960f",
      "metadata": {
        "id": "39aa960f"
      },
      "source": [
        "## Models\n",
        "- models - models we want to use\n",
        "- selected_features_methods - feature selection methods. Here it need to be a function to select k features\n",
        "- k_list - number of features to select\n",
        "\n",
        "We iterate over k_list, then with feature selection methods we limit our dataset. Then we train model on this limited model and do evaluation"
      ]
    },
    {
      "cell_type": "code",
      "execution_count": 24,
      "id": "05175356",
      "metadata": {
        "colab": {
          "base_uri": "https://localhost:8080/"
        },
        "id": "05175356",
        "outputId": "989f7d02-2dd1-45fe-bd91-5a151ab172b5"
      },
      "outputs": [
        {
          "output_type": "stream",
          "name": "stdout",
          "text": [
            "List of k:  [4, 5]\n",
            "['XGB', Index([2, 462, 6, 414], dtype='int64'), 4, np.float64(7050.0), np.float64(6250.0), np.int64(4890), 800, np.int64(4090), 0.704, 0.7361963190184049, 0.683111954459203]\n",
            "['XGB', Index([2, 6, 3, 7], dtype='int64'), 4, np.float64(6750.0), np.float64(5950.0), np.int64(4890), 800, np.int64(4090), 0.719, 0.7361963190184049, 0.703125]\n",
            "['XGB', Index([2, 3, 6, 7], dtype='int64'), 4, np.float64(6750.0), np.float64(5950.0), np.int64(4890), 800, np.int64(4090), 0.719, 0.7361963190184049, 0.703125]\n",
            "['RandomForestClassifier', Index([2, 462, 6, 414], dtype='int64'), 4, np.float64(7100.0), np.float64(6300.0), np.int64(4890), 800, np.int64(4090), 0.707, 0.7321063394683026, 0.6884615384615385]\n",
            "['RandomForestClassifier', Index([2, 6, 3, 7], dtype='int64'), 4, np.float64(7100.0), np.float64(6300.0), np.int64(4890), 800, np.int64(4090), 0.718, 0.7341513292433538, 0.7025440313111546]\n",
            "['RandomForestClassifier', Index([2, 3, 6, 7], dtype='int64'), 4, np.float64(7100.0), np.float64(6300.0), np.int64(4890), 800, np.int64(4090), 0.712, 0.7321063394683026, 0.6951456310679611]\n",
            "['SVM', Index([2, 462, 6, 414], dtype='int64'), 4, np.float64(7200.0), np.float64(6400.0), np.int64(4890), 800, np.int64(4090), 0.71, 0.7239263803680982, 0.6954813359528488]\n",
            "['SVM', Index([2, 6, 3, 7], dtype='int64'), 4, np.float64(7400.0), np.float64(6600.0), np.int64(4890), 800, np.int64(4090), 0.711, 0.7341513292433538, 0.693050193050193]\n",
            "['SVM', Index([2, 3, 6, 7], dtype='int64'), 4, np.float64(7400.0), np.float64(6600.0), np.int64(4890), 800, np.int64(4090), 0.711, 0.7341513292433538, 0.693050193050193]\n",
            "['LogisticRegression', Index([2, 462, 6, 414], dtype='int64'), 4, np.float64(7500.0), np.float64(6700.0), np.int64(4890), 800, np.int64(4090), 0.71, 0.7014314928425358, 0.704312114989733]\n",
            "['LogisticRegression', Index([2, 6, 3, 7], dtype='int64'), 4, np.float64(7550.0), np.float64(6750.0), np.int64(4890), 800, np.int64(4090), 0.709, 0.6993865030674846, 0.7037037037037037]\n",
            "['LogisticRegression', Index([2, 3, 6, 7], dtype='int64'), 4, np.float64(7550.0), np.float64(6750.0), np.int64(4890), 800, np.int64(4090), 0.709, 0.6993865030674846, 0.7037037037037037]\n",
            "['XGB', Index([2, 462, 6, 414, 425], dtype='int64'), 5, np.float64(7050.0), np.float64(6050.0), np.int64(4890), 1000, np.int64(3890), 0.713, 0.7382413087934561, 0.6942307692307692]\n",
            "['XGB', Index([2, 6, 3, 7, 4], dtype='int64'), 5, np.float64(6950.0), np.float64(5950.0), np.int64(4890), 1000, np.int64(3890), 0.722, 0.7402862985685071, 0.7056530214424951]\n",
            "['XGB', Index([2, 3, 4, 6, 7], dtype='int64'), 5, np.float64(6950.0), np.float64(5950.0), np.int64(4890), 1000, np.int64(3890), 0.722, 0.7402862985685071, 0.7056530214424951]\n",
            "['RandomForestClassifier', Index([2, 462, 6, 414, 425], dtype='int64'), 5, np.float64(7450.0), np.float64(6450.0), np.int64(4890), 1000, np.int64(3890), 0.709, 0.7280163599182005, 0.6926070038910506]\n",
            "['RandomForestClassifier', Index([2, 6, 3, 7, 4], dtype='int64'), 5, np.float64(7200.0), np.float64(6200.0), np.int64(4890), 1000, np.int64(3890), 0.722, 0.7402862985685071, 0.7056530214424951]\n",
            "['RandomForestClassifier', Index([2, 3, 4, 6, 7], dtype='int64'), 5, np.float64(6950.0), np.float64(5950.0), np.int64(4890), 1000, np.int64(3890), 0.724, 0.7382413087934561, 0.7092337917485265]\n",
            "['SVM', Index([2, 462, 6, 414, 425], dtype='int64'), 5, np.float64(7200.0), np.float64(6200.0), np.int64(4890), 1000, np.int64(3890), 0.732, 0.7402862985685071, 0.7196819085487077]\n",
            "['SVM', Index([2, 6, 3, 7, 4], dtype='int64'), 5, np.float64(7000.0), np.float64(6000.0), np.int64(4890), 1000, np.int64(3890), 0.713, 0.7341513292433538, 0.6957364341085271]\n",
            "['SVM', Index([2, 3, 4, 6, 7], dtype='int64'), 5, np.float64(7000.0), np.float64(6000.0), np.int64(4890), 1000, np.int64(3890), 0.713, 0.7341513292433538, 0.6957364341085271]\n",
            "['LogisticRegression', Index([2, 462, 6, 414, 425], dtype='int64'), 5, np.float64(7500.0), np.float64(6500.0), np.int64(4890), 1000, np.int64(3890), 0.72, 0.7075664621676891, 0.7163561076604554]\n",
            "['LogisticRegression', Index([2, 6, 3, 7, 4], dtype='int64'), 5, np.float64(7550.0), np.float64(6550.0), np.int64(4890), 1000, np.int64(3890), 0.711, 0.7014314928425358, 0.7057613168724279]\n",
            "['LogisticRegression', Index([2, 3, 4, 6, 7], dtype='int64'), 5, np.float64(7550.0), np.float64(6550.0), np.int64(4890), 1000, np.int64(3890), 0.711, 0.7014314928425358, 0.7057613168724279]\n"
          ]
        }
      ],
      "source": [
        "models = {\n",
        "    \"XGB\": XGBClassifier(random_state=0, subsample=0.8, n_estimators=200, max_depth=5, learning_rate=0.01),\n",
        "    \"RandomForestClassifier\": RandomForestClassifier(random_state=0, n_estimators=300, max_depth=10),\n",
        "    \"SVM\": SVC(probability=True, gamma='scale', C=1, random_state=0),\n",
        "    \"LogisticRegression\": LogisticRegression(max_iter=5000, solver='saga', penalty='elasticnet', l1_ratio=0.5, C=0.01)\n",
        "}\n",
        "selected_features_methods = [shap_features, rfc_features, ufs]\n",
        "# k_list = np.linspace(start=1, stop=12, num=2, dtype=int)\n",
        "k_list = [1, 2, 3, 4, 5]\n",
        "print(\"List of k: \", k_list)\n",
        "\n",
        "results = []\n",
        "\n",
        "for k in k_list:\n",
        "    selected_features = []\n",
        "    for sfm in selected_features_methods:\n",
        "        sel_feature = sfm(k)\n",
        "        selected_features.append(sel_feature)\n",
        "\n",
        "    for name, model in models.items():\n",
        "        for sf in selected_features:\n",
        "            x_t = X_train[sf]\n",
        "            x_v = X_valid[sf]\n",
        "\n",
        "            model.fit(x_t, y_train)\n",
        "            y_pred = model.predict(x_v)\n",
        "            y_proba = model.predict_proba(x_v)[:, 1]\n",
        "            reward, variable_cost, final_score = cost_evalueation(y_valid, y_proba, x_t)\n",
        "            exp_reward, _, exp_score = expected_cost(y_valid, y_proba, x_t)\n",
        "            acc = accuracy_score(y_valid, y_pred)\n",
        "            recall = recall_score(y_valid, y_pred)\n",
        "            precision = precision_score(y_valid, y_pred)\n",
        "            results.append([name, sf, len(sf), exp_reward, exp_score, reward, variable_cost, final_score, acc, recall, precision])\n",
        "            print(results[-1])\n",
        "\n",
        "results_df = pd.DataFrame(results)\n",
        "\n",
        "\n",
        "results_df.columns = [\"name\", \"selected_features\", \"selected_features_length\", \"expected_reward\", \"expected_score\", \"reward\", \"variable_cost\", \"final_score\", \"acc\", \"recall\", \"precision\"]\n",
        "\n",
        "#results_df.sort_values(\"final_score\", ascending=False).head(15)\n",
        "results_df.to_csv(\"./results/results_table.csv\")"
      ]
    },
    {
      "cell_type": "markdown",
      "source": [
        "## Ensembling"
      ],
      "metadata": {
        "id": "0D4d35e-e03V"
      },
      "id": "0D4d35e-e03V"
    },
    {
      "cell_type": "code",
      "source": [
        "import random\n",
        "\n",
        "k = 1\n",
        "selected_feature_sets = [\n",
        "    shap_features(k),\n",
        "    rfc_features(k),\n",
        "    ufs(k)\n",
        "]\n",
        "\n",
        "# Define base models\n",
        "base_models = {\n",
        "    'xgb': XGBClassifier(random_state=0, use_label_encoder=False, eval_metric='logloss'),\n",
        "    'rf':  RandomForestClassifier(random_state=0, n_jobs=-1),\n",
        "    'svm': SVC(probability=True, gamma='scale', C=1, random_state=0),\n",
        "    'lr':  LogisticRegression(max_iter=5000, solver='saga', penalty='elasticnet', l1_ratio=0.5, C=0.01)\n",
        "}\n",
        "\n",
        "results = []\n",
        "random.seed(0)\n",
        "\n",
        "for sf in selected_feature_sets:\n",
        "    X_t = X_train[sf]\n",
        "    X_v = X_valid[sf]\n",
        "\n",
        "\n",
        "    model_names = list(base_models.keys())\n",
        "    subsets = []\n",
        "\n",
        "    subsets.append(model_names) # full subset\n",
        "\n",
        "    for _ in range(3):\n",
        "        subsets.append(random.sample(model_names, 3))\n",
        "\n",
        "    for _ in range(3):\n",
        "        subsets.append(random.sample(model_names, 2))\n",
        "\n",
        "    seen = set()\n",
        "    unique_subsets = []\n",
        "    for s in subsets:\n",
        "        tup = tuple(sorted(s))\n",
        "        if tup not in seen:\n",
        "            seen.add(tup)\n",
        "            unique_subsets.append(s)\n",
        "\n",
        "    for subset in unique_subsets:\n",
        "        for voting_type in ['soft']:\n",
        "            estimators = [(name, base_models[name]) for name in subset]\n",
        "\n",
        "            ensemble = VotingClassifier(\n",
        "                estimators=estimators,\n",
        "                voting=voting_type,\n",
        "                n_jobs=-1\n",
        "            )\n",
        "\n",
        "            ensemble.fit(X_t, y_train)\n",
        "\n",
        "            y_pred  = ensemble.predict(X_v)\n",
        "            y_proba = ensemble.predict_proba(X_v)[:, 1]\n",
        "\n",
        "            reward, variable_cost, final_score = cost_evalueation(y_valid, y_proba, X_t)\n",
        "            exp_reward, _, exp_score          = expected_cost(y_valid, y_proba, X_t)\n",
        "\n",
        "            acc  = accuracy_score(y_valid, y_pred)\n",
        "            rec  = recall_score(y_valid, y_pred)\n",
        "            prec = precision_score(y_valid, y_pred)\n",
        "\n",
        "            results.append([\n",
        "                'Ensemble',\n",
        "                sf,\n",
        "                len(sf),\n",
        "                '+'.join(subset),\n",
        "                voting_type,\n",
        "                exp_reward,\n",
        "                exp_score,\n",
        "                reward,\n",
        "                variable_cost,\n",
        "                final_score,\n",
        "                acc,\n",
        "                rec,\n",
        "                prec\n",
        "            ])\n",
        "\n",
        "            print(f\"Features={sf}, Models={subset}, Voting={voting_type} → \"\n",
        "                  f\"exp_reward={exp_reward:.0f}, exp_score={exp_score:.0f}, \"\n",
        "                  f\"reward={reward:.0f}, cost={variable_cost:.0f}, final={final_score:.0f}, \"\n",
        "                  f\"acc={acc:.4f}, rec={rec:.4f}, prec={prec:.4f}\"\n",
        "            )\n",
        "\n",
        "# Save results\n",
        "results_df = pd.DataFrame(results, columns=[\n",
        "    \"model_type\",\n",
        "    \"selected_features\",\n",
        "    \"n_selected\",\n",
        "    \"model_subset\",\n",
        "    \"voting_type\",\n",
        "    \"expected_reward\",\n",
        "    \"expected_score\",\n",
        "    \"reward\",\n",
        "    \"variable_cost\",\n",
        "    \"final_profit\",\n",
        "    \"accuracy\",\n",
        "    \"recall\",\n",
        "    \"precision\"\n",
        "])\n",
        "results_df.to_csv(\"./results/ensemble_varied_k1.csv\", index=False)"
      ],
      "metadata": {
        "colab": {
          "base_uri": "https://localhost:8080/"
        },
        "id": "gSQZWc8bUNPx",
        "outputId": "05522448-c8ad-4bfc-f4cf-a0fc9a89931e"
      },
      "id": "gSQZWc8bUNPx",
      "execution_count": 23,
      "outputs": [
        {
          "output_type": "stream",
          "name": "stdout",
          "text": [
            "Features=Index([2], dtype='int64'), Models=['xgb', 'rf', 'svm', 'lr'], Voting=soft → exp_reward=7450, exp_score=7250, reward=4890, cost=200, final=4690, acc=0.6910, rec=0.6933, prec=0.6807\n",
            "Features=Index([2], dtype='int64'), Models=['lr', 'rf', 'xgb'], Voting=soft → exp_reward=7250, exp_score=7050, reward=4890, cost=200, final=4690, acc=0.6670, rec=0.6646, prec=0.6579\n",
            "Features=Index([2], dtype='int64'), Models=['svm', 'lr', 'rf'], Voting=soft → exp_reward=7450, exp_score=7250, reward=4890, cost=200, final=4690, acc=0.6730, rec=0.6605, prec=0.6674\n",
            "Features=Index([2], dtype='int64'), Models=['svm', 'lr'], Voting=soft → exp_reward=7600, exp_score=7400, reward=4890, cost=200, final=4690, acc=0.7100, rec=0.7198, prec=0.6970\n",
            "Features=Index([2], dtype='int64'), Models=['rf', 'svm'], Voting=soft → exp_reward=7300, exp_score=7100, reward=4890, cost=200, final=4690, acc=0.6500, rec=0.6299, prec=0.6457\n",
            "Features=Index([2], dtype='int64'), Models=['rf', 'lr'], Voting=soft → exp_reward=7550, exp_score=7350, reward=4890, cost=200, final=4690, acc=0.6250, rec=0.6155, prec=0.6168\n",
            "Features=Index([2], dtype='int64'), Models=['xgb', 'rf', 'svm', 'lr'], Voting=soft → exp_reward=7450, exp_score=7250, reward=4890, cost=200, final=4690, acc=0.6910, rec=0.6933, prec=0.6807\n",
            "Features=Index([2], dtype='int64'), Models=['rf', 'xgb', 'lr'], Voting=soft → exp_reward=7250, exp_score=7050, reward=4890, cost=200, final=4690, acc=0.6670, rec=0.6646, prec=0.6579\n",
            "Features=Index([2], dtype='int64'), Models=['xgb', 'svm', 'rf'], Voting=soft → exp_reward=7350, exp_score=7150, reward=4890, cost=200, final=4690, acc=0.6730, rec=0.6769, prec=0.6620\n",
            "Features=Index([2], dtype='int64'), Models=['lr', 'svm'], Voting=soft → exp_reward=7600, exp_score=7400, reward=4890, cost=200, final=4690, acc=0.7100, rec=0.7198, prec=0.6970\n",
            "Features=Index([2], dtype='int64'), Models=['xgb', 'rf'], Voting=soft → exp_reward=7150, exp_score=6950, reward=4890, cost=200, final=4690, acc=0.6370, rec=0.6258, prec=0.6296\n",
            "Features=Index([2], dtype='int64'), Models=['lr', 'rf'], Voting=soft → exp_reward=7550, exp_score=7350, reward=4890, cost=200, final=4690, acc=0.6250, rec=0.6155, prec=0.6168\n",
            "Features=Index([2], dtype='int64'), Models=['xgb', 'rf', 'svm', 'lr'], Voting=soft → exp_reward=7450, exp_score=7250, reward=4890, cost=200, final=4690, acc=0.6910, rec=0.6933, prec=0.6807\n",
            "Features=Index([2], dtype='int64'), Models=['rf', 'svm', 'lr'], Voting=soft → exp_reward=7450, exp_score=7250, reward=4890, cost=200, final=4690, acc=0.6730, rec=0.6605, prec=0.6674\n",
            "Features=Index([2], dtype='int64'), Models=['xgb', 'svm', 'lr'], Voting=soft → exp_reward=7450, exp_score=7250, reward=4890, cost=200, final=4690, acc=0.7100, rec=0.7198, prec=0.6970\n",
            "Features=Index([2], dtype='int64'), Models=['xgb', 'svm'], Voting=soft → exp_reward=7250, exp_score=7050, reward=4890, cost=200, final=4690, acc=0.7100, rec=0.7260, prec=0.6947\n",
            "Features=Index([2], dtype='int64'), Models=['lr', 'svm'], Voting=soft → exp_reward=7600, exp_score=7400, reward=4890, cost=200, final=4690, acc=0.7100, rec=0.7198, prec=0.6970\n"
          ]
        }
      ]
    },
    {
      "cell_type": "markdown",
      "source": [
        "## Final model"
      ],
      "metadata": {
        "id": "hdJZVqdCg79j"
      },
      "id": "hdJZVqdCg79j"
    },
    {
      "cell_type": "code",
      "source": [
        "X_test = pd.read_csv(f\"{DATA_DIR}/x_test.txt\", sep=\" \", header=None)\n",
        "X_train = pd.read_csv(f\"{DATA_DIR}/x_train.txt\", sep=\" \", header=None)\n",
        "y_train = pd.read_csv(f\"{DATA_DIR}/y_train.txt\", header=None).iloc[:, 0].to_numpy()\n",
        "\n",
        "sf = rfc_features(1)\n",
        "print(sf)\n",
        "\n",
        "X_train_sel = X_train[sf]\n",
        "X_test_sel  = X_test[sf]\n",
        "X_v_sel     = X_valid[sf]\n",
        "\n",
        "svm = SVC(probability=True, gamma='scale', C=1, random_state=0)\n",
        "lr  = LogisticRegression(max_iter=5000, solver='saga', penalty='elasticnet', l1_ratio=0.5, C=0.01)\n",
        "\n",
        "ensemble = VotingClassifier(\n",
        "    estimators=[('svm', svm), ('lr', lr)],\n",
        "    voting='soft',\n",
        "    n_jobs=-1\n",
        ")\n",
        "\n",
        "\n",
        "ensemble.fit(X_train_sel, y_train)\n",
        "\n",
        "y_pred_v  = ensemble.predict(X_v_sel)\n",
        "y_proba_v = ensemble.predict_proba(X_v_sel)[:, 1]\n",
        "_, _, exp_score_v = expected_cost(y_valid, y_proba_v, X_t)\n",
        "print(exp_score_v)\n",
        "\n",
        "\n",
        "proba_test = ensemble.predict_proba(X_test_sel)[:, 1]\n",
        "top1000_indices = np.argsort(proba_test)[-1000:]\n",
        "top1000_indices_sorted = np.sort(top1000_indices)\n",
        "\n",
        "with open(\"320659_obs.txt\", \"w\") as f:\n",
        "    for idx in top1000_indices_sorted:\n",
        "        f.write(f\"{idx}\\n\")\n"
      ],
      "metadata": {
        "colab": {
          "base_uri": "https://localhost:8080/"
        },
        "id": "sXYRIYr6YpCB",
        "outputId": "319f166f-7807-48bb-9ee1-e00f88f67bdf"
      },
      "id": "sXYRIYr6YpCB",
      "execution_count": 34,
      "outputs": [
        {
          "output_type": "stream",
          "name": "stdout",
          "text": [
            "Index([2], dtype='int64')\n",
            "7400.0\n"
          ]
        }
      ]
    }
  ],
  "metadata": {
    "kernelspec": {
      "display_name": "Python 3",
      "name": "python3"
    },
    "language_info": {
      "name": "python"
    },
    "colab": {
      "provenance": [],
      "machine_shape": "hm",
      "gpuType": "A100"
    },
    "accelerator": "GPU"
  },
  "nbformat": 4,
  "nbformat_minor": 5
}
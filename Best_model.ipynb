{
 "cells": [
  {
   "cell_type": "code",
   "execution_count": 21,
   "id": "cf98f1a6",
   "metadata": {},
   "outputs": [],
   "source": [
    "import pandas as pd\n",
    "from sklearn.linear_model import LogisticRegression\n",
    "from sklearn.model_selection import train_test_split, RandomizedSearchCV\n",
    "from sklearn.ensemble import RandomForestClassifier\n",
    "from xgboost import XGBClassifier\n",
    "import numpy as np\n",
    "from sklearn.feature_selection import RFE\n",
    "from sklearn.feature_selection import SelectKBest, f_classif\n",
    "from sklearn.ensemble import RandomForestClassifier\n",
    "from xgboost import XGBClassifier\n",
    "from sklearn.metrics import accuracy_score\n",
    "from pyearth import Earth\n",
    "import shap\n",
    "import os\n",
    "import warnings\n",
    "\n",
    "\n",
    "warnings.filterwarnings(\"ignore\")\n",
    "os.makedirs(\"results\", exist_ok=True)"
   ]
  },
  {
   "cell_type": "code",
   "execution_count": 23,
   "id": "a78cefa4",
   "metadata": {},
   "outputs": [
    {
     "data": {
      "text/html": [
       "<div>\n",
       "<style scoped>\n",
       "    .dataframe tbody tr th:only-of-type {\n",
       "        vertical-align: middle;\n",
       "    }\n",
       "\n",
       "    .dataframe tbody tr th {\n",
       "        vertical-align: top;\n",
       "    }\n",
       "\n",
       "    .dataframe thead th {\n",
       "        text-align: right;\n",
       "    }\n",
       "</style>\n",
       "<table border=\"1\" class=\"dataframe\">\n",
       "  <thead>\n",
       "    <tr style=\"text-align: right;\">\n",
       "      <th></th>\n",
       "      <th>0</th>\n",
       "      <th>1</th>\n",
       "      <th>2</th>\n",
       "      <th>3</th>\n",
       "      <th>4</th>\n",
       "      <th>5</th>\n",
       "      <th>6</th>\n",
       "      <th>7</th>\n",
       "      <th>8</th>\n",
       "      <th>9</th>\n",
       "      <th>...</th>\n",
       "      <th>490</th>\n",
       "      <th>491</th>\n",
       "      <th>492</th>\n",
       "      <th>493</th>\n",
       "      <th>494</th>\n",
       "      <th>495</th>\n",
       "      <th>496</th>\n",
       "      <th>497</th>\n",
       "      <th>498</th>\n",
       "      <th>499</th>\n",
       "    </tr>\n",
       "  </thead>\n",
       "  <tbody>\n",
       "    <tr>\n",
       "      <th>0</th>\n",
       "      <td>20.454647</td>\n",
       "      <td>16.739345</td>\n",
       "      <td>39.811892</td>\n",
       "      <td>24.955468</td>\n",
       "      <td>27.088535</td>\n",
       "      <td>17.116793</td>\n",
       "      <td>25.166957</td>\n",
       "      <td>23.364508</td>\n",
       "      <td>17.223886</td>\n",
       "      <td>18.339175</td>\n",
       "      <td>...</td>\n",
       "      <td>13.235314</td>\n",
       "      <td>5.160379</td>\n",
       "      <td>29.194846</td>\n",
       "      <td>17.298314</td>\n",
       "      <td>6.414267</td>\n",
       "      <td>7.780568</td>\n",
       "      <td>6.840910</td>\n",
       "      <td>18.295197</td>\n",
       "      <td>10.014028</td>\n",
       "      <td>6.938318</td>\n",
       "    </tr>\n",
       "    <tr>\n",
       "      <th>1</th>\n",
       "      <td>16.175225</td>\n",
       "      <td>10.483281</td>\n",
       "      <td>27.471017</td>\n",
       "      <td>18.509824</td>\n",
       "      <td>19.045353</td>\n",
       "      <td>15.039082</td>\n",
       "      <td>21.354915</td>\n",
       "      <td>15.790575</td>\n",
       "      <td>13.912508</td>\n",
       "      <td>13.772518</td>\n",
       "      <td>...</td>\n",
       "      <td>13.355832</td>\n",
       "      <td>2.609716</td>\n",
       "      <td>8.624576</td>\n",
       "      <td>9.371632</td>\n",
       "      <td>11.789219</td>\n",
       "      <td>9.205471</td>\n",
       "      <td>15.204468</td>\n",
       "      <td>8.358906</td>\n",
       "      <td>8.529152</td>\n",
       "      <td>8.021473</td>\n",
       "    </tr>\n",
       "    <tr>\n",
       "      <th>2</th>\n",
       "      <td>10.577212</td>\n",
       "      <td>10.795115</td>\n",
       "      <td>24.621388</td>\n",
       "      <td>17.264747</td>\n",
       "      <td>14.221610</td>\n",
       "      <td>8.754692</td>\n",
       "      <td>18.399259</td>\n",
       "      <td>11.358798</td>\n",
       "      <td>15.432650</td>\n",
       "      <td>14.842153</td>\n",
       "      <td>...</td>\n",
       "      <td>15.179359</td>\n",
       "      <td>10.200144</td>\n",
       "      <td>12.645303</td>\n",
       "      <td>12.147416</td>\n",
       "      <td>8.899863</td>\n",
       "      <td>13.954543</td>\n",
       "      <td>12.356942</td>\n",
       "      <td>16.364696</td>\n",
       "      <td>3.817956</td>\n",
       "      <td>4.094035</td>\n",
       "    </tr>\n",
       "    <tr>\n",
       "      <th>3</th>\n",
       "      <td>26.299206</td>\n",
       "      <td>13.471215</td>\n",
       "      <td>51.725934</td>\n",
       "      <td>40.786947</td>\n",
       "      <td>26.052414</td>\n",
       "      <td>33.200702</td>\n",
       "      <td>51.014330</td>\n",
       "      <td>27.685009</td>\n",
       "      <td>33.107991</td>\n",
       "      <td>25.359457</td>\n",
       "      <td>...</td>\n",
       "      <td>7.693654</td>\n",
       "      <td>6.359187</td>\n",
       "      <td>5.760296</td>\n",
       "      <td>5.699580</td>\n",
       "      <td>9.895795</td>\n",
       "      <td>17.011648</td>\n",
       "      <td>12.031000</td>\n",
       "      <td>14.637973</td>\n",
       "      <td>10.172737</td>\n",
       "      <td>10.525373</td>\n",
       "    </tr>\n",
       "    <tr>\n",
       "      <th>4</th>\n",
       "      <td>23.193955</td>\n",
       "      <td>20.037969</td>\n",
       "      <td>37.780290</td>\n",
       "      <td>28.983748</td>\n",
       "      <td>25.510508</td>\n",
       "      <td>15.970348</td>\n",
       "      <td>27.930757</td>\n",
       "      <td>20.707354</td>\n",
       "      <td>25.341768</td>\n",
       "      <td>27.118987</td>\n",
       "      <td>...</td>\n",
       "      <td>7.068407</td>\n",
       "      <td>7.180632</td>\n",
       "      <td>12.517752</td>\n",
       "      <td>9.026493</td>\n",
       "      <td>7.748172</td>\n",
       "      <td>10.363749</td>\n",
       "      <td>7.099588</td>\n",
       "      <td>12.467672</td>\n",
       "      <td>11.545619</td>\n",
       "      <td>9.098600</td>\n",
       "    </tr>\n",
       "  </tbody>\n",
       "</table>\n",
       "<p>5 rows × 500 columns</p>\n",
       "</div>"
      ],
      "text/plain": [
       "         0          1          2          3          4          5    \\\n",
       "0  20.454647  16.739345  39.811892  24.955468  27.088535  17.116793   \n",
       "1  16.175225  10.483281  27.471017  18.509824  19.045353  15.039082   \n",
       "2  10.577212  10.795115  24.621388  17.264747  14.221610   8.754692   \n",
       "3  26.299206  13.471215  51.725934  40.786947  26.052414  33.200702   \n",
       "4  23.193955  20.037969  37.780290  28.983748  25.510508  15.970348   \n",
       "\n",
       "         6          7          8          9    ...        490        491  \\\n",
       "0  25.166957  23.364508  17.223886  18.339175  ...  13.235314   5.160379   \n",
       "1  21.354915  15.790575  13.912508  13.772518  ...  13.355832   2.609716   \n",
       "2  18.399259  11.358798  15.432650  14.842153  ...  15.179359  10.200144   \n",
       "3  51.014330  27.685009  33.107991  25.359457  ...   7.693654   6.359187   \n",
       "4  27.930757  20.707354  25.341768  27.118987  ...   7.068407   7.180632   \n",
       "\n",
       "         492        493        494        495        496        497  \\\n",
       "0  29.194846  17.298314   6.414267   7.780568   6.840910  18.295197   \n",
       "1   8.624576   9.371632  11.789219   9.205471  15.204468   8.358906   \n",
       "2  12.645303  12.147416   8.899863  13.954543  12.356942  16.364696   \n",
       "3   5.760296   5.699580   9.895795  17.011648  12.031000  14.637973   \n",
       "4  12.517752   9.026493   7.748172  10.363749   7.099588  12.467672   \n",
       "\n",
       "         498        499  \n",
       "0  10.014028   6.938318  \n",
       "1   8.529152   8.021473  \n",
       "2   3.817956   4.094035  \n",
       "3  10.172737  10.525373  \n",
       "4  11.545619   9.098600  \n",
       "\n",
       "[5 rows x 500 columns]"
      ]
     },
     "execution_count": 23,
     "metadata": {},
     "output_type": "execute_result"
    }
   ],
   "source": [
    "X = pd.read_csv(\"./data/x_train.txt\", sep=\" \", header=None)\n",
    "y = pd.read_csv(\"./data/y_train.txt\", header=None).iloc[:, 0].to_numpy()\n",
    "X.head()"
   ]
  },
  {
   "cell_type": "code",
   "execution_count": 24,
   "id": "7bfaf498",
   "metadata": {},
   "outputs": [],
   "source": [
    "from sklearn.model_selection import train_test_split\n",
    "from sklearn.preprocessing import StandardScaler\n",
    "\n",
    "# Split data\n",
    "X_train, X_test, y_train, y_test = train_test_split(X, y, test_size=0.2, random_state=42)\n",
    "\n",
    "# Scale features\n",
    "scaler = StandardScaler()\n",
    "X_train_scaled = scaler.fit_transform(X_train)\n",
    "X_test_scaled = scaler.transform(X_test)\n"
   ]
  },
  {
   "cell_type": "code",
   "execution_count": null,
   "id": "490c101d",
   "metadata": {},
   "outputs": [
    {
     "name": "stdout",
     "output_type": "stream",
     "text": [
      "Logistic Regression: ACC = 0.6158 ± 0.0175\n",
      "Random Forest: ACC = 0.7013 ± 0.0051\n",
      "SVM: ACC = 0.6590 ± 0.0164\n",
      "XGBoost: ACC = 0.6998 ± 0.0130\n"
     ]
    }
   ],
   "source": [
    "from sklearn.linear_model import LogisticRegression\n",
    "from sklearn.ensemble import RandomForestClassifier\n",
    "from sklearn.svm import SVC\n",
    "from xgboost import XGBClassifier\n",
    "from sklearn.model_selection import cross_val_score\n",
    "from sklearn.metrics import accuracy_score\n",
    "\n",
    "models = {\n",
    "    \"Logistic Regression\": LogisticRegression(),\n",
    "    \"Random Forest\": RandomForestClassifier(),\n",
    "    \"SVM\": SVC(probability=True),\n",
    "    \"XGBoost\": XGBClassifier(eval_metric='logloss')\n",
    "}\n",
    "\n",
    "for name, model in models.items():\n",
    "    score = cross_val_score(model, X_train_scaled, y_train, cv=5, scoring='accuracy')\n",
    "    print(f\"{name}: ACC = {score.mean():.4f} ± {score.std():.4f}\")\n",
    "    \n"
   ]
  },
  {
   "cell_type": "code",
   "execution_count": 8,
   "id": "5e7ffcda",
   "metadata": {},
   "outputs": [
    {
     "name": "stdout",
     "output_type": "stream",
     "text": [
      "Best Logistic Regression Params: {'solver': 'saga', 'penalty': 'elasticnet', 'l1_ratio': 0.5, 'C': 0.01}\n"
     ]
    }
   ],
   "source": [
    "from sklearn.linear_model import LogisticRegression\n",
    "\n",
    "param_dist_lr = {\n",
    "    \"C\": [0.01, 0.1],    # Inverse of regularization strength\n",
    "    \"penalty\": [\"l1\", \"l2\", \"elasticnet\"],\n",
    "    \"solver\": [\"saga\"],\n",
    "    \"l1_ratio\": [0, 0.5, 1]          # Only used if penalty='elasticnet'\n",
    "}\n",
    "\n",
    "rs_lr = RandomizedSearchCV(\n",
    "    LogisticRegression(max_iter=5000),\n",
    "    param_distributions=param_dist_lr,\n",
    "    scoring='accuracy',\n",
    "    cv=5,\n",
    "    n_iter=20,\n",
    "    random_state=42,\n",
    "    n_jobs=-1\n",
    ")\n",
    "\n",
    "rs_lr.fit(X_train_scaled, y_train)\n",
    "print(\"Best Logistic Regression Params:\", rs_lr.best_params_)\n"
   ]
  },
  {
   "cell_type": "code",
   "execution_count": 27,
   "id": "47c94102",
   "metadata": {},
   "outputs": [
    {
     "name": "stdout",
     "output_type": "stream",
     "text": [
      "Best XGBoost Params: {'subsample': 0.8, 'n_estimators': 200, 'max_depth': 5, 'learning_rate': 0.001}\n"
     ]
    }
   ],
   "source": [
    "model = XGBClassifier(use_label_encoder=False, eval_metric='mlogloss')\n",
    "\n",
    "param_dist = {\n",
    "    'n_estimators': [100, 200],\n",
    "    'max_depth': [5],\n",
    "    'learning_rate': [0.01, 0.001],\n",
    "    'subsample': [0.8],\n",
    "}\n",
    "\n",
    "rs_xg = RandomizedSearchCV(\n",
    "    model,\n",
    "    param_distributions=param_dist,\n",
    "    n_iter=25,\n",
    "    scoring='accuracy',\n",
    "    cv=5,\n",
    "    random_state=42,\n",
    "    n_jobs=-1,\n",
    "    verbose=0\n",
    ")\n",
    "\n",
    "rs_xg.fit(X_train, y_train)\n",
    "print(\"Best XGBoost Params:\", rs_xg.best_params_)"
   ]
  },
  {
   "cell_type": "code",
   "execution_count": 9,
   "id": "c2c42dfd",
   "metadata": {},
   "outputs": [
    {
     "name": "stdout",
     "output_type": "stream",
     "text": [
      "Best Random Forest Params: {'n_estimators': 300, 'max_depth': 10}\n"
     ]
    }
   ],
   "source": [
    "from sklearn.ensemble import RandomForestClassifier\n",
    "\n",
    "param_dist_rf = {\n",
    "    \"n_estimators\": [100, 300],\n",
    "    \"max_depth\": [5, 10]\n",
    "}\n",
    "\n",
    "rs_rf = RandomizedSearchCV(\n",
    "    RandomForestClassifier(random_state=42),\n",
    "    param_distributions=param_dist_rf,\n",
    "    scoring='accuracy',\n",
    "    cv=5,\n",
    "    n_iter=20,\n",
    "    random_state=42,\n",
    "    n_jobs=-1\n",
    ")\n",
    "\n",
    "rs_rf.fit(X_train_scaled, y_train)\n",
    "print(\"Best Random Forest Params:\", rs_rf.best_params_)\n"
   ]
  },
  {
   "cell_type": "code",
   "execution_count": 10,
   "id": "104c55f6",
   "metadata": {},
   "outputs": [
    {
     "name": "stdout",
     "output_type": "stream",
     "text": [
      "Best SVM Params: {'gamma': 'scale', 'C': 1}\n"
     ]
    }
   ],
   "source": [
    "from sklearn.svm import SVC\n",
    "\n",
    "param_dist_svm = {\n",
    "    \"C\": [0.1, 1, 10, 100],\n",
    "    \"gamma\": [\"scale\", \"auto\"]\n",
    "}\n",
    "\n",
    "rs_svm = RandomizedSearchCV(\n",
    "    SVC(probability=True),\n",
    "    param_distributions=param_dist_svm,\n",
    "    scoring='accuracy',\n",
    "    cv=5,\n",
    "    n_iter=20,\n",
    "    random_state=42,\n",
    "    n_jobs=-1\n",
    ")\n",
    "\n",
    "rs_svm.fit(X_train_scaled, y_train)\n",
    "print(\"Best SVM Params:\", rs_svm.best_params_)\n"
   ]
  },
  {
   "cell_type": "code",
   "execution_count": 16,
   "id": "b1c45993",
   "metadata": {},
   "outputs": [
    {
     "name": "stdout",
     "output_type": "stream",
     "text": [
      "ACC: 0.693\n",
      "              precision    recall  f1-score   support\n",
      "\n",
      "           0       0.69      0.74      0.71       512\n",
      "           1       0.70      0.64      0.67       488\n",
      "\n",
      "    accuracy                           0.69      1000\n",
      "   macro avg       0.69      0.69      0.69      1000\n",
      "weighted avg       0.69      0.69      0.69      1000\n",
      "\n"
     ]
    }
   ],
   "source": [
    "from sklearn.metrics import classification_report\n",
    "\n",
    "best_model = rs_lr.best_estimator_\n",
    "y_pred = best_model.predict(X_test_scaled)\n",
    "y_proba = best_model.predict_proba(X_test_scaled)[:, 1]\n",
    "\n",
    "print(\"ACC:\", accuracy_score(y_test, y_pred))\n",
    "print(classification_report(y_test, y_pred))\n"
   ]
  },
  {
   "cell_type": "code",
   "execution_count": 19,
   "id": "c6fb9022",
   "metadata": {},
   "outputs": [
    {
     "name": "stdout",
     "output_type": "stream",
     "text": [
      "ACC: 0.69\n",
      "              precision    recall  f1-score   support\n",
      "\n",
      "           0       0.70      0.70      0.70       512\n",
      "           1       0.68      0.68      0.68       488\n",
      "\n",
      "    accuracy                           0.69      1000\n",
      "   macro avg       0.69      0.69      0.69      1000\n",
      "weighted avg       0.69      0.69      0.69      1000\n",
      "\n"
     ]
    }
   ],
   "source": [
    "from sklearn.metrics import classification_report\n",
    "\n",
    "best_model = rs_rf.best_estimator_\n",
    "y_pred = best_model.predict(X_test_scaled)\n",
    "y_proba = best_model.predict_proba(X_test_scaled)[:, 1]\n",
    "\n",
    "print(\"ACC:\", accuracy_score(y_test, y_pred))\n",
    "print(classification_report(y_test, y_pred))"
   ]
  },
  {
   "cell_type": "code",
   "execution_count": 20,
   "id": "fee1d4ad",
   "metadata": {},
   "outputs": [
    {
     "name": "stdout",
     "output_type": "stream",
     "text": [
      "ACC: 0.655\n",
      "              precision    recall  f1-score   support\n",
      "\n",
      "           0       0.66      0.68      0.67       512\n",
      "           1       0.65      0.63      0.64       488\n",
      "\n",
      "    accuracy                           0.66      1000\n",
      "   macro avg       0.65      0.65      0.65      1000\n",
      "weighted avg       0.65      0.66      0.65      1000\n",
      "\n"
     ]
    }
   ],
   "source": [
    "from sklearn.metrics import classification_report\n",
    "\n",
    "best_model = rs_svm.best_estimator_\n",
    "y_pred = best_model.predict(X_test_scaled)\n",
    "y_proba = best_model.predict_proba(X_test_scaled)[:, 1]\n",
    "\n",
    "print(\"ACC:\", accuracy_score(y_test, y_pred))\n",
    "print(classification_report(y_test, y_pred))"
   ]
  },
  {
   "cell_type": "code",
   "execution_count": 28,
   "id": "0f20bc63",
   "metadata": {},
   "outputs": [
    {
     "name": "stdout",
     "output_type": "stream",
     "text": [
      "ACC: 0.512\n",
      "              precision    recall  f1-score   support\n",
      "\n",
      "           0       0.51      1.00      0.68       512\n",
      "           1       0.00      0.00      0.00       488\n",
      "\n",
      "    accuracy                           0.51      1000\n",
      "   macro avg       0.26      0.50      0.34      1000\n",
      "weighted avg       0.26      0.51      0.35      1000\n",
      "\n"
     ]
    }
   ],
   "source": [
    "from sklearn.metrics import classification_report\n",
    "\n",
    "best_model = rs_xg.best_estimator_\n",
    "y_pred = best_model.predict(X_test_scaled)\n",
    "y_proba = best_model.predict_proba(X_test_scaled)[:, 1]\n",
    "\n",
    "print(\"ACC:\", accuracy_score(y_test, y_pred))\n",
    "print(classification_report(y_test, y_pred))"
   ]
  },
  {
   "cell_type": "code",
   "execution_count": null,
   "id": "76908e6b",
   "metadata": {},
   "outputs": [],
   "source": []
  }
 ],
 "metadata": {
  "kernelspec": {
   "display_name": "Python 3",
   "language": "python",
   "name": "python3"
  },
  "language_info": {
   "codemirror_mode": {
    "name": "ipython",
    "version": 3
   },
   "file_extension": ".py",
   "mimetype": "text/x-python",
   "name": "python",
   "nbconvert_exporter": "python",
   "pygments_lexer": "ipython3",
   "version": "3.11.6"
  }
 },
 "nbformat": 4,
 "nbformat_minor": 5
}
